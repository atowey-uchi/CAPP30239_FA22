{
 "cells": [
  {
   "cell_type": "code",
   "execution_count": 42,
   "id": "dea6c999",
   "metadata": {},
   "outputs": [],
   "source": [
    "df = pd.read_json('a3cleanedonly2015.json')"
   ]
  },
  {
   "cell_type": "code",
   "execution_count": 2,
   "id": "8ef5e82f",
   "metadata": {},
   "outputs": [],
   "source": [
    "import pandas as pd\n",
    "import numpy as np"
   ]
  },
  {
   "cell_type": "code",
   "execution_count": 30,
   "id": "39a5d01e",
   "metadata": {},
   "outputs": [],
   "source": [
    "manner_df = df['Manner_of_death'].value_counts() #donut chart"
   ]
  },
  {
   "cell_type": "code",
   "execution_count": 45,
   "id": "4c7a7c72",
   "metadata": {},
   "outputs": [],
   "source": [
    "race_df = df.replace('', np.nan, inplace=True)\n",
    "race_df = df['Race'].value_counts() #bar plot"
   ]
  },
  {
   "cell_type": "code",
   "execution_count": 17,
   "id": "d9364c84",
   "metadata": {},
   "outputs": [
    {
     "data": {
      "text/html": [
       "<div>\n",
       "<style scoped>\n",
       "    .dataframe tbody tr th:only-of-type {\n",
       "        vertical-align: middle;\n",
       "    }\n",
       "\n",
       "    .dataframe tbody tr th {\n",
       "        vertical-align: top;\n",
       "    }\n",
       "\n",
       "    .dataframe thead th {\n",
       "        text-align: right;\n",
       "    }\n",
       "</style>\n",
       "<table border=\"1\" class=\"dataframe\">\n",
       "  <thead>\n",
       "    <tr style=\"text-align: right;\">\n",
       "      <th></th>\n",
       "      <th>FIELD1</th>\n",
       "      <th>Unnamed: 0</th>\n",
       "      <th>UID</th>\n",
       "      <th>Name</th>\n",
       "      <th>Age</th>\n",
       "      <th>Gender</th>\n",
       "      <th>Race</th>\n",
       "      <th>Date</th>\n",
       "      <th>City</th>\n",
       "      <th>State</th>\n",
       "      <th>Manner_of_death</th>\n",
       "      <th>Armed</th>\n",
       "      <th>Mental_illness</th>\n",
       "      <th>Flee</th>\n",
       "    </tr>\n",
       "  </thead>\n",
       "  <tbody>\n",
       "    <tr>\n",
       "      <th>0</th>\n",
       "      <td>103</td>\n",
       "      <td>104</td>\n",
       "      <td>9978</td>\n",
       "      <td>Tim Elliott</td>\n",
       "      <td>53.0</td>\n",
       "      <td>Male</td>\n",
       "      <td>Asian</td>\n",
       "      <td>2015-01-02</td>\n",
       "      <td>Shelton</td>\n",
       "      <td>WA</td>\n",
       "      <td>Shot</td>\n",
       "      <td></td>\n",
       "      <td>True</td>\n",
       "      <td>False</td>\n",
       "    </tr>\n",
       "    <tr>\n",
       "      <th>1</th>\n",
       "      <td>104</td>\n",
       "      <td>105</td>\n",
       "      <td>10077</td>\n",
       "      <td>Hung Trieu</td>\n",
       "      <td>NaN</td>\n",
       "      <td>Male</td>\n",
       "      <td>Asian</td>\n",
       "      <td>2015-02-01</td>\n",
       "      <td>Houston</td>\n",
       "      <td>TX</td>\n",
       "      <td>Shot</td>\n",
       "      <td></td>\n",
       "      <td>False</td>\n",
       "      <td>False</td>\n",
       "    </tr>\n",
       "    <tr>\n",
       "      <th>2</th>\n",
       "      <td>105</td>\n",
       "      <td>106</td>\n",
       "      <td>10374</td>\n",
       "      <td>Lue Vang</td>\n",
       "      <td>39.0</td>\n",
       "      <td>Male</td>\n",
       "      <td>Asian</td>\n",
       "      <td>2015-04-22</td>\n",
       "      <td>Eldorado Springs</td>\n",
       "      <td>CO</td>\n",
       "      <td>Shot</td>\n",
       "      <td></td>\n",
       "      <td>False</td>\n",
       "      <td>False</td>\n",
       "    </tr>\n",
       "    <tr>\n",
       "      <th>3</th>\n",
       "      <td>106</td>\n",
       "      <td>107</td>\n",
       "      <td>10421</td>\n",
       "      <td>Thong Kien Ma</td>\n",
       "      <td>32.0</td>\n",
       "      <td>Male</td>\n",
       "      <td>Asian</td>\n",
       "      <td>2015-05-05</td>\n",
       "      <td>South El Monte</td>\n",
       "      <td>CA</td>\n",
       "      <td>Shot</td>\n",
       "      <td></td>\n",
       "      <td>False</td>\n",
       "      <td>False</td>\n",
       "    </tr>\n",
       "    <tr>\n",
       "      <th>4</th>\n",
       "      <td>107</td>\n",
       "      <td>108</td>\n",
       "      <td>10628</td>\n",
       "      <td>Ton Nguyen</td>\n",
       "      <td>60.0</td>\n",
       "      <td>Male</td>\n",
       "      <td>Asian</td>\n",
       "      <td>2015-07-02</td>\n",
       "      <td>San Diego</td>\n",
       "      <td>CA</td>\n",
       "      <td>Shot</td>\n",
       "      <td></td>\n",
       "      <td>False</td>\n",
       "      <td>False</td>\n",
       "    </tr>\n",
       "    <tr>\n",
       "      <th>...</th>\n",
       "      <td>...</td>\n",
       "      <td>...</td>\n",
       "      <td>...</td>\n",
       "      <td>...</td>\n",
       "      <td>...</td>\n",
       "      <td>...</td>\n",
       "      <td>...</td>\n",
       "      <td>...</td>\n",
       "      <td>...</td>\n",
       "      <td>...</td>\n",
       "      <td>...</td>\n",
       "      <td>...</td>\n",
       "      <td>...</td>\n",
       "      <td>...</td>\n",
       "    </tr>\n",
       "    <tr>\n",
       "      <th>1532</th>\n",
       "      <td>11604</td>\n",
       "      <td>11605</td>\n",
       "      <td>10226</td>\n",
       "      <td>David Werblow</td>\n",
       "      <td>41.0</td>\n",
       "      <td>Male</td>\n",
       "      <td></td>\n",
       "      <td>2015-03-15</td>\n",
       "      <td>Branford</td>\n",
       "      <td>CT</td>\n",
       "      <td>Tasered</td>\n",
       "      <td>Unarmed</td>\n",
       "      <td>True</td>\n",
       "      <td>False</td>\n",
       "    </tr>\n",
       "    <tr>\n",
       "      <th>1533</th>\n",
       "      <td>11605</td>\n",
       "      <td>11606</td>\n",
       "      <td>10424</td>\n",
       "      <td>John Paul Kaafi</td>\n",
       "      <td>33.0</td>\n",
       "      <td>Male</td>\n",
       "      <td></td>\n",
       "      <td>2015-05-06</td>\n",
       "      <td>Sarasota</td>\n",
       "      <td>FL</td>\n",
       "      <td>Tasered</td>\n",
       "      <td></td>\n",
       "      <td>True</td>\n",
       "      <td>False</td>\n",
       "    </tr>\n",
       "    <tr>\n",
       "      <th>1534</th>\n",
       "      <td>11606</td>\n",
       "      <td>11607</td>\n",
       "      <td>10440</td>\n",
       "      <td>Martin Eugene Bayless</td>\n",
       "      <td>66.0</td>\n",
       "      <td>Male</td>\n",
       "      <td></td>\n",
       "      <td>2015-05-09</td>\n",
       "      <td>Carbondale</td>\n",
       "      <td>KS</td>\n",
       "      <td>Tasered</td>\n",
       "      <td></td>\n",
       "      <td>False</td>\n",
       "      <td>False</td>\n",
       "    </tr>\n",
       "    <tr>\n",
       "      <th>1535</th>\n",
       "      <td>11607</td>\n",
       "      <td>11608</td>\n",
       "      <td>10448</td>\n",
       "      <td>Dajuan Graham</td>\n",
       "      <td>40.0</td>\n",
       "      <td>Male</td>\n",
       "      <td></td>\n",
       "      <td>2015-05-12</td>\n",
       "      <td>Silver Spring</td>\n",
       "      <td>MD</td>\n",
       "      <td>Tasered</td>\n",
       "      <td></td>\n",
       "      <td>True</td>\n",
       "      <td>False</td>\n",
       "    </tr>\n",
       "    <tr>\n",
       "      <th>1536</th>\n",
       "      <td>11608</td>\n",
       "      <td>11609</td>\n",
       "      <td>10796</td>\n",
       "      <td>Matthew Russo</td>\n",
       "      <td>26.0</td>\n",
       "      <td>Male</td>\n",
       "      <td></td>\n",
       "      <td>2015-08-07</td>\n",
       "      <td>Hartford</td>\n",
       "      <td>CT</td>\n",
       "      <td>Tasered</td>\n",
       "      <td></td>\n",
       "      <td>False</td>\n",
       "      <td>False</td>\n",
       "    </tr>\n",
       "  </tbody>\n",
       "</table>\n",
       "<p>1537 rows × 14 columns</p>\n",
       "</div>"
      ],
      "text/plain": [
       "      FIELD1  Unnamed: 0    UID                   Name   Age Gender   Race  \\\n",
       "0        103         104   9978            Tim Elliott  53.0   Male  Asian   \n",
       "1        104         105  10077             Hung Trieu   NaN   Male  Asian   \n",
       "2        105         106  10374               Lue Vang  39.0   Male  Asian   \n",
       "3        106         107  10421          Thong Kien Ma  32.0   Male  Asian   \n",
       "4        107         108  10628             Ton Nguyen  60.0   Male  Asian   \n",
       "...      ...         ...    ...                    ...   ...    ...    ...   \n",
       "1532   11604       11605  10226          David Werblow  41.0   Male          \n",
       "1533   11605       11606  10424        John Paul Kaafi  33.0   Male          \n",
       "1534   11606       11607  10440  Martin Eugene Bayless  66.0   Male          \n",
       "1535   11607       11608  10448          Dajuan Graham  40.0   Male          \n",
       "1536   11608       11609  10796          Matthew Russo  26.0   Male          \n",
       "\n",
       "           Date              City State Manner_of_death    Armed  \\\n",
       "0    2015-01-02           Shelton    WA            Shot            \n",
       "1    2015-02-01           Houston    TX            Shot            \n",
       "2    2015-04-22  Eldorado Springs    CO            Shot            \n",
       "3    2015-05-05    South El Monte    CA            Shot            \n",
       "4    2015-07-02         San Diego    CA            Shot            \n",
       "...         ...               ...   ...             ...      ...   \n",
       "1532 2015-03-15          Branford    CT         Tasered  Unarmed   \n",
       "1533 2015-05-06          Sarasota    FL         Tasered            \n",
       "1534 2015-05-09        Carbondale    KS         Tasered            \n",
       "1535 2015-05-12     Silver Spring    MD         Tasered            \n",
       "1536 2015-08-07          Hartford    CT         Tasered            \n",
       "\n",
       "      Mental_illness   Flee  \n",
       "0               True  False  \n",
       "1              False  False  \n",
       "2              False  False  \n",
       "3              False  False  \n",
       "4              False  False  \n",
       "...              ...    ...  \n",
       "1532            True  False  \n",
       "1533            True  False  \n",
       "1534           False  False  \n",
       "1535            True  False  \n",
       "1536           False  False  \n",
       "\n",
       "[1537 rows x 14 columns]"
      ]
     },
     "execution_count": 17,
     "metadata": {},
     "output_type": "execute_result"
    }
   ],
   "source": [
    "df"
   ]
  },
  {
   "cell_type": "code",
   "execution_count": 53,
   "id": "67157d21",
   "metadata": {},
   "outputs": [
    {
     "name": "stderr",
     "output_type": "stream",
     "text": [
      "/var/folders/_f/cn7w2_g979z63x69nw9b3y_r0000gn/T/ipykernel_37196/3720976252.py:1: FutureWarning: Series.dt.weekofyear and Series.dt.week have been deprecated. Please use Series.dt.isocalendar().week instead.\n",
      "  month_df = df['Date'].groupby([df.Date.dt.weekofyear]).agg('count')\n"
     ]
    }
   ],
   "source": [
    "month_df = df['Date'].groupby([df.Date.dt.isocalendar().week]).agg('count')"
   ]
  },
  {
   "cell_type": "code",
   "execution_count": 52,
   "id": "857e47c9",
   "metadata": {},
   "outputs": [
    {
     "data": {
      "text/plain": [
       "'Date,Date\\n1,10\\n2,28\\n3,35\\n4,19\\n5,27\\n6,30\\n7,26\\n8,29\\n9,37\\n10,22\\n11,34\\n12,44\\n13,31\\n14,39\\n15,31\\n16,27\\n17,35\\n18,28\\n19,24\\n20,33\\n21,27\\n22,34\\n23,25\\n24,35\\n25,18\\n26,21\\n27,30\\n28,42\\n29,33\\n30,32\\n31,25\\n32,39\\n33,27\\n34,32\\n35,29\\n36,33\\n37,28\\n38,27\\n39,36\\n40,21\\n41,23\\n42,39\\n43,28\\n44,29\\n45,21\\n46,32\\n47,30\\n48,21\\n49,29\\n50,31\\n51,29\\n52,34\\n53,8\\n'"
      ]
     },
     "execution_count": 52,
     "metadata": {},
     "output_type": "execute_result"
    }
   ],
   "source": [
    "month_df.to_csv() #line graph"
   ]
  },
  {
   "cell_type": "code",
   "execution_count": 48,
   "id": "edfd5032",
   "metadata": {},
   "outputs": [
    {
     "data": {
      "text/plain": [
       "',Manner_of_death\\nShot,1445\\nTasered,58\\nShot and Tasered,33\\nOther,1\\n'"
      ]
     },
     "execution_count": 48,
     "metadata": {},
     "output_type": "execute_result"
    }
   ],
   "source": [
    "manner_df.to_csv()#donut chart"
   ]
  },
  {
   "cell_type": "code",
   "execution_count": 49,
   "id": "e49b097e",
   "metadata": {},
   "outputs": [
    {
     "data": {
      "text/plain": [
       "',Race\\nWhite,751\\nBlack,378\\nHispanic,246\\nAsian,19\\nNative,19\\nOther,10\\n'"
      ]
     },
     "execution_count": 49,
     "metadata": {},
     "output_type": "execute_result"
    }
   ],
   "source": [
    "race_df.to_csv() #bar plot"
   ]
  },
  {
   "cell_type": "code",
   "execution_count": null,
   "id": "9ce1d638",
   "metadata": {},
   "outputs": [],
   "source": []
  }
 ],
 "metadata": {
  "kernelspec": {
   "display_name": "Python 3 (ipykernel)",
   "language": "python",
   "name": "python3"
  },
  "language_info": {
   "codemirror_mode": {
    "name": "ipython",
    "version": 3
   },
   "file_extension": ".py",
   "mimetype": "text/x-python",
   "name": "python",
   "nbconvert_exporter": "python",
   "pygments_lexer": "ipython3",
   "version": "3.8.8"
  }
 },
 "nbformat": 4,
 "nbformat_minor": 5
}
